{
 "cells": [
  {
   "cell_type": "code",
   "execution_count": 4,
   "id": "3dbab273",
   "metadata": {},
   "outputs": [
    {
     "name": "stdout",
     "output_type": "stream",
     "text": [
      "Input_Array shape\n",
      "\n",
      "(4, 2)\n",
      "\n",
      "Input Array\n",
      "[[0 0]\n",
      " [0 1]\n",
      " [1 1]\n",
      " [1 0]]\n",
      "\n",
      "Output Array Shape\n",
      "\n",
      "(4, 1)\n",
      "\n",
      "Weights\n",
      "\n",
      "[[0.1]\n",
      " [0.2]]\n",
      "\n",
      "Updated Weights and Bias\n",
      "\n",
      "[[-0.4204469]\n",
      " [ 4.2597748]]\n",
      "[-1.7964881]\n",
      "\n",
      "\n",
      "\n",
      "\n",
      "Final Output\n",
      "\n",
      "[0.92152767]\n"
     ]
    }
   ],
   "source": [
    "import numpy as np\n",
    "\n",
    "input_value = np.array([[0,0],[0,1],[1,1],[1,0]])\n",
    "print(\"Input_Array shape\\n\")\n",
    "print(input_value.shape)\n",
    "print(\"\\nInput Array\")\n",
    "print(input_value)\n",
    "output_value = np.array([0,1,1,0])\n",
    "output_value = output_value.reshape(4,1)\n",
    "print(\"\\nOutput Array Shape\\n\")\n",
    "print(output_value.shape)\n",
    "weights = np.array([[0.1],[0.2]])\n",
    "print(\"\\nWeights\\n\")\n",
    "print(weights)\n",
    "bias = 0.3\n",
    "def sigmoid_func(x):\n",
    "    return 1/(1+np.exp(-x))\n",
    "def derv(x):\n",
    "    return sigmoid_func(x) * (1-sigmoid_func(x))\n",
    "for epochs in range(1000):\n",
    "    input_arr = input_value\n",
    "    weighted_sum = np.dot(input_arr, weights) + bias\n",
    "    first_output = sigmoid_func(weighted_sum)\n",
    "    error = first_output - output_value\n",
    "    total_wrror = np.square(np.subtract(first_output, output_value)).mean()\n",
    "    first_der = error\n",
    "    second_der = derv(first_output)\n",
    "    derivative = first_der * second_der\n",
    "    t_input = input_value.T\n",
    "    final_derivative = np.dot(t_input, derivative)\n",
    "    weights = weights - 0.05 * final_derivative\n",
    "    for i in derivative:\n",
    "        bias = bias - 0.05 * i\n",
    "print(\"\\nUpdated Weights and Bias\\n\")\n",
    "print(weights)\n",
    "print(bias)\n",
    "print(\"\\n\\n\")\n",
    "pred = np.array([0,1])\n",
    "result = np.dot(pred,weights) + bias\n",
    "res = sigmoid_func(result)\n",
    "print(\"\\nFinal Output\\n\")\n",
    "print(res)"
   ]
  },
  {
   "cell_type": "code",
   "execution_count": null,
   "id": "a6f9a24c",
   "metadata": {},
   "outputs": [],
   "source": []
  }
 ],
 "metadata": {
  "kernelspec": {
   "display_name": "Python 3 (ipykernel)",
   "language": "python",
   "name": "python3"
  },
  "language_info": {
   "codemirror_mode": {
    "name": "ipython",
    "version": 3
   },
   "file_extension": ".py",
   "mimetype": "text/x-python",
   "name": "python",
   "nbconvert_exporter": "python",
   "pygments_lexer": "ipython3",
   "version": "3.11.5"
  }
 },
 "nbformat": 4,
 "nbformat_minor": 5
}
