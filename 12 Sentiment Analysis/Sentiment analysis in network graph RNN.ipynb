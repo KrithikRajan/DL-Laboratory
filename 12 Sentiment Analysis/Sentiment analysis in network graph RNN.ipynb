{
 "cells": [
  {
   "cell_type": "code",
   "execution_count": 4,
   "id": "47d87676",
   "metadata": {},
   "outputs": [
    {
     "name": "stdout",
     "output_type": "stream",
     "text": [
      "Downloading data from https://storage.googleapis.com/tensorflow/tf-keras-datasets/imdb_word_index.json\n",
      "1641221/1641221 [==============================] - 0s 0us/step\n",
      "Epoch 1/3\n",
      "390/390 [==============================] - 296s 746ms/step - loss: 0.4645 - accuracy: 0.7644 - val_loss: 0.2873 - val_accuracy: 0.9219\n",
      "Epoch 2/3\n",
      "390/390 [==============================] - 333s 853ms/step - loss: 0.2964 - accuracy: 0.8831 - val_loss: 0.2659 - val_accuracy: 0.8906\n",
      "Epoch 3/3\n",
      "390/390 [==============================] - 268s 687ms/step - loss: 0.2538 - accuracy: 0.8981 - val_loss: 0.2182 - val_accuracy: 0.9219\n",
      "1/1 [==============================] - 0s 423ms/step\n",
      "1/1 [==============================] - 0s 40ms/step\n",
      "Predicted sentiment for the positive review: 0.9390678\n",
      "Predicted sentiment for the negative review: 0.72343266\n",
      "Test accuracy: 0.8744400143623352\n"
     ]
    }
   ],
   "source": [
    "from keras.datasets import imdb\n",
    "from keras.preprocessing import sequence\n",
    "from keras.utils import pad_sequences\n",
    "from keras import Sequential\n",
    "from keras.layers import Embedding, LSTM, Dense\n",
    "\n",
    "# Load IMDb dataset\n",
    "vocabulary_size = 5000\n",
    "(X_train, y_train), (X_test, y_test) = imdb.load_data(num_words=vocabulary_size)\n",
    "\n",
    "# Padding sequences\n",
    "max_words = 500\n",
    "X_train = pad_sequences(X_train, maxlen=max_words)\n",
    "X_test = pad_sequences(X_test, maxlen=max_words)\n",
    "\n",
    "# Create a word index dictionary\n",
    "word_index = imdb.get_word_index()\n",
    "word2id = {word: index + 3 for word, index in word_index.items()}\n",
    "word2id[\"<PAD>\"] = 0\n",
    "word2id[\"<START>\"] = 1\n",
    "word2id[\"<OOV>\"] = 2\n",
    "\n",
    "# Reverse the word index for decoding predictions\n",
    "id2word = {index: word for word, index in word2id.items()}\n",
    "\n",
    "# Define the model\n",
    "embedding_size = 32\n",
    "model = Sequential()\n",
    "model.add(Embedding(vocabulary_size, embedding_size, input_length=max_words))\n",
    "model.add(LSTM(100))\n",
    "model.add(Dense(1, activation='sigmoid'))\n",
    "model.compile(loss='binary_crossentropy', optimizer='adam', metrics=['accuracy'])\n",
    "\n",
    "# Training the model (assuming y_train2 is the binary labels)\n",
    "batch_size = 64\n",
    "num_epochs = 3\n",
    "X_valid, y_valid = X_train[:batch_size], y_train[:batch_size]\n",
    "X_train2, y_train2 = X_train[batch_size:], y_train[batch_size:]\n",
    "model.fit(X_train2, y_train2, validation_data=(X_valid, y_valid), batch_size=batch_size, epochs=num_epochs)\n",
    "\n",
    "# Predict sentiment\n",
    "def predict_sentiment(review_text):\n",
    "    review_sequence = [word2id.get(word, 0) for word in review_text.split()]\n",
    "    padded_sequence = pad_sequences([review_sequence], maxlen=max_words)\n",
    "    prediction = model.predict(padded_sequence)\n",
    "    return prediction[0][0]\n",
    "\n",
    "# Test predictions\n",
    "positive_review = \"I loved the movie! It was fantastic.\"\n",
    "negative_review = \"The film was terrible, and I hated it.\"\n",
    "positive_sentiment = predict_sentiment(positive_review)\n",
    "negative_sentiment = predict_sentiment(negative_review)\n",
    "\n",
    "print(\"Predicted sentiment for the positive review:\", positive_sentiment)\n",
    "print(\"Predicted sentiment for the negative review:\", negative_sentiment)\n",
    "\n",
    "# Evaluate the model on the test set\n",
    "scores = model.evaluate(X_test, y_test, verbose=0)\n",
    "print('Test accuracy:', scores[1])\n"
   ]
  },
  {
   "cell_type": "code",
   "execution_count": null,
   "id": "73929bf4",
   "metadata": {},
   "outputs": [],
   "source": []
  }
 ],
 "metadata": {
  "kernelspec": {
   "display_name": "Python 3 (ipykernel)",
   "language": "python",
   "name": "python3"
  },
  "language_info": {
   "codemirror_mode": {
    "name": "ipython",
    "version": 3
   },
   "file_extension": ".py",
   "mimetype": "text/x-python",
   "name": "python",
   "nbconvert_exporter": "python",
   "pygments_lexer": "ipython3",
   "version": "3.11.5"
  }
 },
 "nbformat": 4,
 "nbformat_minor": 5
}
