{
 "cells": [
  {
   "cell_type": "code",
   "execution_count": 12,
   "id": "c71915a1",
   "metadata": {},
   "outputs": [
    {
     "name": "stdout",
     "output_type": "stream",
     "text": [
      "Found 10 images belonging to 2 classes.\n",
      "Epoch 1/5\n",
      "1/1 [==============================] - 0s 331ms/step - loss: 21.0239 - accuracy: 0.4000\n",
      "Epoch 2/5\n",
      "1/1 [==============================] - 0s 41ms/step - loss: 5444.1558 - accuracy: 0.5000\n",
      "Epoch 3/5\n",
      "1/1 [==============================] - 0s 43ms/step - loss: 1011.4056 - accuracy: 0.5000\n",
      "Epoch 4/5\n",
      "1/1 [==============================] - 0s 40ms/step - loss: 984.2819 - accuracy: 0.5000\n",
      "Epoch 5/5\n",
      "1/1 [==============================] - 0s 42ms/step - loss: 614.8661 - accuracy: 0.5000\n",
      "1/1 [==============================] - 0s 39ms/step\n",
      "DOG\n",
      "[[0.99963886]]\n"
     ]
    }
   ],
   "source": [
    "from keras.models import Sequential\n",
    "from keras.layers import Conv2D, MaxPooling2D, Flatten, Dense\n",
    "from keras.preprocessing.image import ImageDataGenerator, load_img, img_to_array\n",
    "import numpy as np\n",
    "\n",
    "# Define the CNN model\n",
    "model = Sequential()\n",
    "model.add(Conv2D(32, (3, 3), activation='relu', input_shape=(128, 128, 3)))\n",
    "model.add(MaxPooling2D(pool_size=(2, 2)))\n",
    "model.add(Flatten())\n",
    "model.add(Dense(1, activation='sigmoid'))\n",
    "\n",
    "model.compile(loss='binary_crossentropy', optimizer='rmsprop', metrics=['accuracy'])\n",
    "\n",
    "# Provide the path to your dataset directory\n",
    "train_generator = ImageDataGenerator().flow_from_directory(\n",
    "    r\"D:\\CNN\",  # Change this to the path of your dataset directory\n",
    "    target_size=(128, 128),\n",
    "    class_mode='binary',  # For binary classification\n",
    "    batch_size=32\n",
    ")\n",
    "\n",
    "# Train the model\n",
    "model.fit(\n",
    "    train_generator,\n",
    "    epochs=5\n",
    ")\n",
    "\n",
    "# Load and preprocess a single image for prediction\n",
    "image_path = r\"D:\\CNN\\Dog\\images.jpg\"\n",
    "img = load_img(image_path, target_size=(128, 128))\n",
    "img_array = img_to_array(img)\n",
    "img_array = img_array / 255.0\n",
    "image = np.expand_dims(img_array, axis=0)\n",
    "\n",
    "# Make a prediction\n",
    "prediction = model.predict(image)\n",
    "\n",
    "# Display the prediction result\n",
    "if prediction[0][0] <= 0.5:\n",
    "    print(\"CAT\")\n",
    "else:\n",
    "    print(\"DOG\")\n",
    "print(prediction)"
   ]
  },
  {
   "cell_type": "code",
   "execution_count": null,
   "id": "fad16176",
   "metadata": {},
   "outputs": [],
   "source": []
  }
 ],
 "metadata": {
  "kernelspec": {
   "display_name": "Python 3 (ipykernel)",
   "language": "python",
   "name": "python3"
  },
  "language_info": {
   "codemirror_mode": {
    "name": "ipython",
    "version": 3
   },
   "file_extension": ".py",
   "mimetype": "text/x-python",
   "name": "python",
   "nbconvert_exporter": "python",
   "pygments_lexer": "ipython3",
   "version": "3.11.5"
  }
 },
 "nbformat": 4,
 "nbformat_minor": 5
}
